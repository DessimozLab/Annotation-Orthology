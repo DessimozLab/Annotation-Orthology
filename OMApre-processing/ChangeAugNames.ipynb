{
 "cells": [
  {
   "cell_type": "markdown",
   "id": "8dc872a1",
   "metadata": {},
   "source": [
    "# Changing the IDs of the .fa to be unique among all species"
   ]
  },
  {
   "cell_type": "markdown",
   "id": "e9f63592",
   "metadata": {},
   "source": [
    "Transforming Augustus' gffs into .fa files outputs files with genes called g1.t1, g2.t1, g3.t1, etc for all species (genomes). For running the benchmarking pipeline, each gene needs to have a different id (not only within proteomes but also among them- among different species).\n",
    "This script solves that by adding the species code at the beginning of each gene."
   ]
  },
  {
   "cell_type": "code",
   "execution_count": 1,
   "id": "a1bfd10d",
   "metadata": {},
   "outputs": [],
   "source": [
    "wdir='/yourdirectory/OMAAugustus20wrids/DB/'\n",
    "outdir='/yourdirectory/OMAAugustus20/DB/'"
   ]
  },
  {
   "cell_type": "code",
   "execution_count": 6,
   "id": "2e2a9817",
   "metadata": {},
   "outputs": [],
   "source": [
    "import glob\n",
    "from Bio import SeqIO\n",
    "formato = 'fasta'\n",
    "\n",
    "for f in glob.glob(wdir + \"*.fa\"):\n",
    "    name = f.split('.fa')[0]\n",
    "    name=name.split('DB/')[1]\n",
    "    newseqs=[]\n",
    "    with open(outdir + name + '.fa', 'w') as outfile:\n",
    "        for s in SeqIO.parse(f, formato):\n",
    "            newid=name+s.id\n",
    "            s.description = s.description.replace(s.id, newid)\n",
    "            s.id=newid\n",
    "            #s.description = s.description.replace(newid, s.id)\n",
    "            newseqs.append(s)\n",
    "        SeqIO.write(newseqs, outfile, \"fasta\")\n",
    "        \n",
    "    #SeqIO.write(ids, outfile, \"fasta\")"
   ]
  }
 ],
 "metadata": {
  "kernelspec": {
   "display_name": "Python 3 (ipykernel)",
   "language": "python",
   "name": "python3"
  },
  "language_info": {
   "codemirror_mode": {
    "name": "ipython",
    "version": 3
   },
   "file_extension": ".py",
   "mimetype": "text/x-python",
   "name": "python",
   "nbconvert_exporter": "python",
   "pygments_lexer": "ipython3",
   "version": "3.9.13"
  }
 },
 "nbformat": 4,
 "nbformat_minor": 5
}

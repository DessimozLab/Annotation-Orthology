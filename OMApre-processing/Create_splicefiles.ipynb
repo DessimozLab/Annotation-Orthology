{
 "cells": [
  {
   "cell_type": "markdown",
   "id": "53c116e4",
   "metadata": {},
   "source": [
    "## NCBI format "
   ]
  },
  {
   "cell_type": "code",
   "execution_count": 1,
   "id": "d917ba97",
   "metadata": {},
   "outputs": [],
   "source": [
    "## For this method, the .fa file needs to have a GeneId (GeneID=)\n",
    "def create_splicefile_NCBI(file, formato):\n",
    "    '''\n",
    "    Require num. Create splicefile from multifasta file, specific for NCBI fastas.\n",
    "    '''\n",
    "    import numpy as np\n",
    "    import re\n",
    "    from Bio import SeqIO\n",
    "    geneids = []\n",
    "    for seq_record in SeqIO.parse(file, formato):\n",
    "        string_to_split = seq_record.description\n",
    "        split = string_to_split.split('GeneID=') [1]\n",
    "        split = split.split(']')[0]\n",
    "        split = split.replace(']','')\n",
    "        geneids.append(split)\n",
    "\n",
    "\n",
    "    splicedic = {}\n",
    "    counter = -1\n",
    "\n",
    "    for index, record in enumerate(SeqIO.parse(file, formato)):\n",
    "        counter+= 1\n",
    "        key = geneids[counter]\n",
    "        splicedic.setdefault(key, [])\n",
    "        splicedic[key].append(record.id)\n",
    "\n",
    "    \n",
    "    temp = file.split('.fa')[0] +'.temp'\n",
    "    with open(temp, 'w') as outfile:\n",
    "        for key in splicedic:\n",
    "        \n",
    "            for i in splicedic[key]:\n",
    "                print(i, end =\";\", file=outfile)\n",
    "            print('\\n', file = outfile)\n",
    "            \n",
    "    splicefile = temp.split('.temp')[0] + '.splice'\n",
    "    with open(temp,'r') as infile:\n",
    "        lines = infile.readlines()\n",
    "    \n",
    "        with open(splicefile, 'w') as outfile:\n",
    "            for l in lines:\n",
    "                line = re.sub(\";$\",\"\", l)\n",
    "                if len(line.strip('\\n'))>1 and (len(re.findall(';', line)))>0:\n",
    "                    outfile.write(line)\n",
    "                    \n",
    "    return 'Done. Check your folder'\n",
    "\n",
    "#create_splicefile_NCBI(\"gal6.fa\", \"fasta\")"
   ]
  },
  {
   "cell_type": "code",
   "execution_count": null,
   "id": "9b283697",
   "metadata": {},
   "outputs": [],
   "source": [
    "## Method 2, no GeneID --> done with gff files instead\n",
    "\n",
    "import pandas as pd\n",
    "\n",
    "## CHECK THE DIRECTORY IS CORRECT \n",
    "\n",
    "#corr=pd.read_csv('/work/FAC/FBM/DBC/cdessim2/default/sprietob/ncbi_dataset/data/SpeciesInfo.csv')\n",
    "\n",
    "corr.rename(columns={\"Correct NCBI refseq\": \"Correct_NCBI_refseq\"}, inplace=True)\n",
    "\n",
    "\n",
    "##### SPECIFIC FOR NCBI. All folders in original_dir need to be genomes folders with genomic.gff \n",
    "##### (& protein.faa) inside \n",
    "\n",
    "\n",
    "import os\n",
    "import gffutils\n",
    "\n",
    "\n",
    "## CHECK THE DIRECTORIES ARE CORRECT\n",
    "\n",
    "#original_dir = '/work/FAC/FBM/DBC/cdessim2/default/sprietob/ncbi_dataset/data/GCFs/'\n",
    "#splice_dir = '/work/FAC/FBM/DBC/cdessim2/default/sprietob/OMAtopNCBI20/DB/'\n",
    "\n",
    "for folder in os.listdir(original_dir):\n",
    "    gene_to_prot= {}\n",
    "    prot_to_gene = {}\n",
    "    folder_path = original_dir + folder\n",
    "    spcode= corr.loc[corr.Correct_NCBI_refseq== folder, 'Code'].values[0]\n",
    "    \n",
    "    if os.path.isdir(folder_path):\n",
    "        gff = folder_path+'/genomic.gff'\n",
    "        db = gffutils.create_db(gff, ':memory:', merge_strategy=\"create_unique\", keep_order=True)\n",
    "        # Loop through all genes\n",
    "        for t in db.features_of_type('gene', order_by='start'):\n",
    "            gene = t.id\n",
    "            gene_list = []\n",
    "            ordered_child = list(db.children(t, featuretype='CDS', order_by='start'))\n",
    "            \n",
    "            # Loop through all children of genes\n",
    "            for child in ordered_child:\n",
    "                type_attribute = ['protein_id', 'Name']\n",
    "                \n",
    "                # Loop through all proteins of children??\n",
    "                for att_type in type_attribute:\n",
    "                    protein = child.attributes.get(att_type, [None])[0]\n",
    "                    if protein:\n",
    "                \n",
    "                        break\n",
    "                if not protein:\n",
    "                    print('warning')\n",
    "                    print(child)\n",
    "                    continue\n",
    "                corr_gene = prot_to_gene.get(protein, None)\n",
    "                if corr_gene and corr_gene!=gene:\n",
    "                    gene = corr_gene\n",
    "                    for other_prot in gene_list:\n",
    "                        prot_to_gene[other_prot] = gene\n",
    "                    gene_list = gene_to_prot[gene]+gene_list\n",
    "                else:\n",
    "                    prot_to_gene[protein] = gene\n",
    "                if protein not in gene_list:\n",
    "                    gene_list.append(protein)\n",
    "            if len(gene_list)!=0:\n",
    "                gene_to_prot[gene] = gene_list\n",
    "                \n",
    "#UNCOMMENT FOR EXPORT\n",
    "\n",
    "   # with open(splice_dir+spcode+'.splice','w') as handle_output:\n",
    "    #    for val in gene_to_prot.values():\n",
    "     #       handle_output.write(\";\".join(val)+'\\n')"
   ]
  },
  {
   "cell_type": "markdown",
   "id": "ff98cf68",
   "metadata": {},
   "source": [
    "## Ensembl format"
   ]
  },
  {
   "cell_type": "code",
   "execution_count": 2,
   "id": "e3d95ed4",
   "metadata": {},
   "outputs": [],
   "source": [
    "def create_splicefile_OMA(file, formato):\n",
    "    '''\n",
    "    Require num and biopython. \n",
    "    Create splicefile from multifasta file, specific for Ensembl fastas with pipes separated header ids (OMA).\n",
    "    '''\n",
    "    from Bio import SeqIO\n",
    "    import numpy as np\n",
    "    import re\n",
    "    #Make array with gene IDs\n",
    "    geneids = []\n",
    "    for seq_record in SeqIO.parse(file, formato):\n",
    "        string_to_split = seq_record.description\n",
    "        split = string_to_split.split(' | ') [3]\n",
    "        split = split.split(' | ')[0]\n",
    "        geneids.append(split)\n",
    "\n",
    "\n",
    "    # Make dictionary with gene ids from previous array as keys. Iterate through the sequences in fasta and add\n",
    "    # individual unique record ids as values to each gene id's key.\n",
    "    splicedic = {}\n",
    "    counter = -1\n",
    "\n",
    "    for index, record in enumerate(SeqIO.parse(file, formato)):\n",
    "        counter+= 1\n",
    "        key = geneids[counter]\n",
    "        splicedic.setdefault(key, [])\n",
    "        splicedic[key].append(record.id)\n",
    "\n",
    "    \n",
    "    temp = file.split('.fa')[0] +'.temp'\n",
    "    with open(temp, 'w') as outfile:\n",
    "        for key in splicedic:\n",
    "        \n",
    "            for i in splicedic[key]:\n",
    "                print(i, end =\";\", file=outfile)\n",
    "            print('\\n', file = outfile)\n",
    "            \n",
    "    splicefile = temp.split('.temp')[0] + '.splice'\n",
    "    with open(temp,'r') as infile:\n",
    "        lines = infile.readlines()\n",
    "    \n",
    "        with open(splicefile, 'w') as outfile:\n",
    "            for l in lines:\n",
    "                line = re.sub(\";$\",\"\", l)\n",
    "                if len(line.strip('\\n'))>1 and (len(re.findall(';', line)))>0:\n",
    "                    outfile.write(line)\n",
    "                    \n",
    "    return 'Done. Check your folder'"
   ]
  },
  {
   "cell_type": "code",
   "execution_count": 20,
   "id": "e60c9a38",
   "metadata": {},
   "outputs": [],
   "source": [
    "def create_splicefile_Ensembl(file, formato):\n",
    "    '''\n",
    "    Require num and biopython. \n",
    "    Create splicefile from multifasta file, specific for Ensembl fastas with gene:id and no pipes.\n",
    "    '''\n",
    "    from Bio import SeqIO\n",
    "    import numpy as np\n",
    "    import re\n",
    "\n",
    "    splicedic={}\n",
    "\n",
    "    for seq_record in SeqIO.parse(file, formato):\n",
    "        string_to_split = seq_record.description\n",
    "        gid = string_to_split.split('gene:')[1]\n",
    "        gid = gid.split(' transcript')[0]\n",
    "        splicedic.setdefault(gid,[])\n",
    "        splicedic[gid].append(seq_record.id)\n",
    "\n",
    "    \n",
    "    temp = file.split('.fa')[0] +'.splice'\n",
    "    with open(temp, 'w') as outfile:\n",
    "        for key in splicedic:\n",
    "            print(';'.join(splicedic[key]), file=outfile)\n",
    "            \n",
    "                    \n",
    "    return 'Done. Check your folder'"
   ]
  },
  {
   "cell_type": "markdown",
   "id": "627a7d60",
   "metadata": {},
   "source": [
    "# Implementation"
   ]
  },
  {
   "cell_type": "code",
   "execution_count": 18,
   "id": "dfabfe59",
   "metadata": {},
   "outputs": [],
   "source": [
    "wdir='/users/sprietob/mywork/ToyDatasetCharles/'"
   ]
  },
  {
   "cell_type": "code",
   "execution_count": 21,
   "id": "a10ee5b2",
   "metadata": {
    "scrolled": true
   },
   "outputs": [
    {
     "name": "stdout",
     "output_type": "stream",
     "text": [
      "1\n"
     ]
    }
   ],
   "source": [
    "import glob\n",
    "formato = 'fasta'\n",
    "names=[]\n",
    "for f in glob.glob(wdir + \"AEDAE2.fa\"):\n",
    "    name = f.split('.fa')[0]\n",
    "    name=name.split('Charles/')[1]\n",
    "    names.append(name)\n",
    "    create_splicefile_Ensembl(f, formato)\n",
    "print(len(names))"
   ]
  },
  {
   "cell_type": "code",
   "execution_count": 3,
   "id": "6eaa30f5",
   "metadata": {},
   "outputs": [
    {
     "data": {
      "text/plain": [
       "'Done. Check your folder'"
      ]
     },
     "execution_count": 3,
     "metadata": {},
     "output_type": "execute_result"
    }
   ],
   "source": [
    "create_splicefile_OMA(\"HUMAN.fa\", \"fasta\")"
   ]
  }
 ],
 "metadata": {
  "kernelspec": {
   "display_name": "Python 3 (ipykernel)",
   "language": "python",
   "name": "python3"
  },
  "language_info": {
   "codemirror_mode": {
    "name": "ipython",
    "version": 3
   },
   "file_extension": ".py",
   "mimetype": "text/x-python",
   "name": "python",
   "nbconvert_exporter": "python",
   "pygments_lexer": "ipython3",
   "version": "3.9.13"
  }
 },
 "nbformat": 4,
 "nbformat_minor": 5
}

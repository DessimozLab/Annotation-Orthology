{
 "cells": [
  {
   "cell_type": "markdown",
   "id": "582c7d71",
   "metadata": {},
   "source": [
    "This notebook's purpose is to create a file with all the OrthoFinder orthologs for each annotation set that the Generalised Species Tree Discordance Benchmark can use."
   ]
  },
  {
   "cell_type": "code",
   "execution_count": 1,
   "id": "83db0c95",
   "metadata": {},
   "outputs": [],
   "source": [
    "import gzip, json\n",
    "import os\n",
    "from glob import iglob\n",
    "import csv\n",
    "import pickle\n",
    "from collections import defaultdict"
   ]
  },
  {
   "cell_type": "code",
   "execution_count": 2,
   "id": "1a4b3a81",
   "metadata": {},
   "outputs": [],
   "source": [
    "## OMA 'for_benchmarking directory'\n",
    "## your path to the for_benchmarking subdirectory of the corresponding OMA set\n",
    "workdir='/your/path/to/primEnsembl/for_benchmarking/'\n",
    "## OrthoFinder dir for corresponding set (e.g. OMA's prim Ensembl to OF prim Ensembl)\n",
    "ofdir='/yourpath/to/OFprimEnsembl/primary_transcripts/OrthoFinder/Results_Apr05/Orthologues/'\n",
    "\n",
    "# For Ensembl directories uncomment line bellow:\n",
    "#pickledir= '/Annotation-Orthology/GSpTDBenchmark/genetotranscripts/#top or #primEnsembl'\n",
    "# or your own directory to the pickle files provided in this repo folder"
   ]
  },
  {
   "cell_type": "code",
   "execution_count": null,
   "id": "d94b3c10",
   "metadata": {},
   "outputs": [],
   "source": [
    "# For all sets but Ensembl (see bellow for Ensembl)\n",
    "\n",
    "with gzip.open(workdir+'mapping.json.gz','rt') as fh:\n",
    "    data = json.load(fh)\n",
    "\n",
    "gene_map = {k.split(' ')[0]: k for k in data['mapping'].keys()}\n",
    "\n",
    "combosseen=[]\n",
    "with open(ofdir+ 'Total.tsv', 'wt') as outfile:\n",
    "    for file in iglob(ofdir + '**', recursive=True):\n",
    "        if file==ofdir+'Total.tsv':\n",
    "            continue\n",
    "        if os.path.isfile(file): # filter dirs\n",
    "                with open(file, 'rt') as infile:\n",
    "                    sp1=file.split('Orthologues_')[1].split('/')[0]\n",
    "                    sp2=file.split('v__')[1].split('.tsv')[0]\n",
    "                    if (sp1+'-'+sp2) not in combosseen:\n",
    "                        combosseen.append(sp2+'-'+sp1)\n",
    "                        #print(file)\n",
    "                        lines = infile.readlines()[1:]\n",
    "                        for line in lines:\n",
    "                            sp1o= (line.split('\\t')[1])\n",
    "                            sp2o= (line.split('\\t')[2])\n",
    "                            for o in sp1o.split(','):\n",
    "                                newo=gene_map[o.strip()]\n",
    "                                for i in sp2o.split(','):\n",
    "                                    i= i.strip('\\n')\n",
    "                                    newi=gene_map[i.strip()]\n",
    "                                    outfile.write(newo+'\\t'+newi + '\\n')"
   ]
  },
  {
   "cell_type": "code",
   "execution_count": null,
   "id": "2d62074e",
   "metadata": {},
   "outputs": [],
   "source": [
    "genetotrans=defaultdict(str)\n",
    "for file in iglob(pickledir+ '**'):\n",
    "    if file.endswith('.p'):\n",
    "        print(file)\n",
    "        with open(file, 'rb') as currentdict:\n",
    "            currentdict=pickle.load(currentdict)\n",
    "        genetotrans.update(currentdict)"
   ]
  },
  {
   "cell_type": "code",
   "execution_count": 5,
   "id": "5e2ff854",
   "metadata": {
    "scrolled": true
   },
   "outputs": [
    {
     "data": {
      "text/plain": [
       "436716"
      ]
     },
     "execution_count": 5,
     "metadata": {},
     "output_type": "execute_result"
    }
   ],
   "source": [
    "len(genetotrans)"
   ]
  },
  {
   "cell_type": "code",
   "execution_count": null,
   "id": "81ce81e6",
   "metadata": {},
   "outputs": [],
   "source": [
    "## For primEnsembl\n",
    "\n",
    "with gzip.open(workdir+'mapping.json.gz','rt') as fh:\n",
    "    data = json.load(fh)\n",
    "\n",
    "gene_map = {k.split(' ')[0]: k for k in data['mapping'].keys()}\n",
    "\n",
    "combosseen=[]\n",
    "with open(ofdir+ 'Total.tsv', 'wt') as outfile:\n",
    "    for file in iglob(ofdir + '**', recursive=True):\n",
    "        if file==ofdir+'Total.tsv':\n",
    "            continue\n",
    "        if os.path.isfile(file): # filter dirs\n",
    "                with open(file, 'rt') as infile:\n",
    "                    sp1=file.split('Orthologues_')[1].split('/')[0]\n",
    "                    sp2=file.split('v__')[1].split('.tsv')[0]\n",
    "                    print(file)\n",
    "                    if (sp1+'-'+sp2) not in combosseen:\n",
    "                        combosseen.append(sp2+'-'+sp1)\n",
    "                        lines = infile.readlines()[1:]\n",
    "                        for line in lines:\n",
    "                            sp1o= (line.split('\\t')[1])\n",
    "                            sp2o= (line.split('\\t')[2])\n",
    "                            for g1 in sp1o.split(','):\n",
    "                                ntrans1=genetotrans[g1.strip()]\n",
    "                                newo=gene_map[ntrans1]\n",
    "                                for g2 in sp2o.split(','):\n",
    "                                    g2= g2.strip('\\n')\n",
    "                                    ntrans2=genetotrans[g2.strip()]\n",
    "                                    if file == '/your/pathto/OFprimEnsembl/primary_transcripts/OrthoFinder/Results_Apr05/Orthologues/Orthologues_CHPIB/CHPIB__v__MOUSE.tsv' \n",
    "                                    or file == '/your/path/to/OFprimEnsembl/primary_transcripts/OrthoFinder/Results_Apr05/Orthologues/Orthologues_SARHA/SARHA__v__MOUSE.tsv' \n",
    "                                    or file == '/your/path/to/OFprimEnsembl/primary_transcripts/OrthoFinder/Results_Apr05/Orthologues/Orthologues_PODMU/PODMU__v__MOUSE.tsv':\n",
    "                                        if ntrans2=='ENSMUSP00000149101.1':\n",
    "                                            continue\n",
    "                                        else:\n",
    "                                            newi=gene_map[ntrans2]\n",
    "                                    else:\n",
    "                                        newi=gene_map[ntrans2]\n",
    "                                        \n",
    "                                    outfile.write(newo+'\\t'+newi + '\\n')"
   ]
  },
  {
   "cell_type": "code",
   "execution_count": null,
   "id": "58a453e3",
   "metadata": {},
   "outputs": [],
   "source": [
    "## For topEnsembl\n",
    "\n",
    "with gzip.open(workdir+'mapping.json.gz','rt') as fh:\n",
    "    data = json.load(fh)\n",
    "\n",
    "gene_map = {k.split(' ')[0]: k for k in data['mapping'].keys()}\n",
    "\n",
    "combosseen=[]\n",
    "with open(ofdir+ 'Total.tsv', 'wt') as outfile:\n",
    "    for file in iglob(ofdir + '**', recursive=True):\n",
    "        if file==ofdir+'Total.tsv':\n",
    "            continue\n",
    "        if os.path.isfile(file): # filter dirs\n",
    "                with open(file, 'rt') as infile:\n",
    "                    sp1=file.split('Orthologues_')[1].split('/')[0]\n",
    "                    sp2=file.split('v__')[1].split('.tsv')[0]\n",
    "                    print(file)\n",
    "                    if (sp1+'-'+sp2) not in combosseen:\n",
    "                        combosseen.append(sp2+'-'+sp1)\n",
    "                        lines = infile.readlines()[1:]\n",
    "                        for line in lines:\n",
    "                            sp1o= (line.split('\\t')[1])\n",
    "                            sp2o= (line.split('\\t')[2])\n",
    "                            for g1 in sp1o.split(','):\n",
    "                                ntrans1=genetotrans[g1.strip()]\n",
    "                                newo=gene_map[ntrans1]\n",
    "                                for g2 in sp2o.split(','):\n",
    "                                    g2= g2.strip('\\n')\n",
    "                                    ntrans2=genetotrans[g2.strip()]\n",
    "                                    if file == '/your/path/to/OFtopEnsembl/primary_transcripts/OrthoFinder/Results_Apr05/Orthologues/Orthologues_CHPIB/CHPIB__v__MOUSE.tsv' \n",
    "                                    or file == '/your/path/to/OFtopEnsembl/primary_transcripts/OrthoFinder/Results_Apr05/Orthologues/Orthologues_SARHA/SARHA__v__MOUSE.tsv' \n",
    "                                    or file == '/your/path/to/OFtopEnsembl/primary_transcripts/OrthoFinder/Results_Apr05/Orthologues/Orthologues_PODMU/PODMU__v__MOUSE.tsv':\n",
    "                                        if ntrans2=='ENSMUSP00000149101.1':\n",
    "                                            continue\n",
    "                                        else:\n",
    "                                            newi=gene_map[ntrans2]\n",
    "                                    else:\n",
    "                                        newi=gene_map[ntrans2]\n",
    "                                        \n",
    "                                    outfile.write(newo+'\\t'+newi + '\\n')"
   ]
  },
  {
   "cell_type": "code",
   "execution_count": 14,
   "id": "39a68478",
   "metadata": {
    "scrolled": true
   },
   "outputs": [
    {
     "name": "stdout",
     "output_type": "stream",
     "text": [
      "190\n"
     ]
    }
   ],
   "source": [
    "print(len(combosseen))"
   ]
  }
 ],
 "metadata": {
  "kernelspec": {
   "display_name": "Python 3 (ipykernel)",
   "language": "python",
   "name": "python3"
  },
  "language_info": {
   "codemirror_mode": {
    "name": "ipython",
    "version": 3
   },
   "file_extension": ".py",
   "mimetype": "text/x-python",
   "name": "python",
   "nbconvert_exporter": "python",
   "pygments_lexer": "ipython3",
   "version": "3.9.13"
  }
 },
 "nbformat": 4,
 "nbformat_minor": 5
}
